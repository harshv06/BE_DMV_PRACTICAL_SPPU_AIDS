{
 "cells": [
  {
   "cell_type": "code",
   "execution_count": 1,
   "metadata": {},
   "outputs": [],
   "source": [
    "import pandas as pd\n",
    "import numpy as np\n",
    "import warnings\n",
    "warnings.filterwarnings(\"ignore\")"
   ]
  },
  {
   "cell_type": "code",
   "execution_count": null,
   "metadata": {},
   "outputs": [],
   "source": [
    "# 1. Import the dataset and clean column names\n",
    "data = pd.read_csv(\"RealEstate_Prices.csv\")\n",
    "print(\"First few rows of the dataset:\")\n",
    "print(data.head())"
   ]
  },
  {
   "cell_type": "code",
   "execution_count": null,
   "metadata": {},
   "outputs": [],
   "source": [
    "# Clean column names by removing spaces, special characters, and renaming for clarity\n",
    "data.columns = data.columns.str.strip().str.replace(' ', '_').str.replace(r'[^\\w\\s]', '')\n",
    "print(\"\\nCleaned Column Names:\")\n",
    "print(data.head())"
   ]
  },
  {
   "cell_type": "code",
   "execution_count": null,
   "metadata": {},
   "outputs": [],
   "source": [
    "# 2. Handle missing values\n",
    "# Decide on a strategy to handle missing values. Example: filling numerical with mean and categorical with mode.\n",
    "for column in data.columns:\n",
    "    if data[column].dtype == 'object':  # Check if column is categorical\n",
    "        data[column].fillna(data[column].mode()[0], inplace=True)\n",
    "    else:  # Numeric column\n",
    "        data[column].fillna(data[column].mean(), inplace=True)\n",
    "\n",
    "# Display summary of missing values to ensure they are handled\n",
    "print(\"\\nMissing Values after Imputation:\")\n",
    "print(data.isnull().sum())"
   ]
  },
  {
   "cell_type": "code",
   "execution_count": null,
   "metadata": {},
   "outputs": [],
   "source": [
    "# 4. Filter and subset data based on criteria\n",
    "# Example: Filter properties sold after 2015 and of type 'Single Family'\n",
    "filtered_data = data[(data['Year_Built'] > 2015) & (data['Property_Type'] == 'Single Family')]\n",
    "print(\"\\nFiltered Data:\")\n",
    "print(filtered_data.head())\n"
   ]
  },
  {
   "cell_type": "code",
   "execution_count": null,
   "metadata": {},
   "outputs": [],
   "source": [
    "# 5. Handle categorical variables by encoding\n",
    "# Example of one-hot encoding categorical variables\n",
    "encoded_data = pd.get_dummies(filtered_data, columns=['Property_Type', 'Location'], drop_first=True)\n",
    "print(\"\\nCurrent Columns in encoded_data:\")\n",
    "print(encoded_data.columns)"
   ]
  },
  {
   "cell_type": "code",
   "execution_count": null,
   "metadata": {},
   "outputs": [],
   "source": [
    "# 6. Aggregate data to calculate summary statistics\n",
    "# Calculate average sale price by neighborhood\n",
    "avg_price_by_neighborhood = data.groupby('Neighborhood').agg({'Sale_Price': 'mean'}).reset_index()\n",
    "avg_price_by_neighborhood.rename(columns={'Sale_Price': 'Average_Sale_Price'}, inplace=True)"
   ]
  },
  {
   "cell_type": "code",
   "execution_count": null,
   "metadata": {},
   "outputs": [],
   "source": [
    "print(\"\\nAverage Sale Price by Neighborhood:\")\n",
    "print(avg_price_by_neighborhood)"
   ]
  },
  {
   "cell_type": "code",
   "execution_count": null,
   "metadata": {},
   "outputs": [],
   "source": [
    "# 7. Identify and handle outliers\n",
    "# Using IQR to identify outliers in 'Sale_Price'\n",
    "Q1 = encoded_data['Sale_Price'].quantile(0.25)\n",
    "Q3 = encoded_data['Sale_Price'].quantile(0.75)\n",
    "IQR = Q3 - Q1\n"
   ]
  },
  {
   "cell_type": "code",
   "execution_count": null,
   "metadata": {},
   "outputs": [],
   "source": [
    "# Define limits for outliers\n",
    "lower_bound = Q1 - 1.5 * IQR\n",
    "upper_bound = Q3 + 1.5 * IQR\n"
   ]
  },
  {
   "cell_type": "code",
   "execution_count": null,
   "metadata": {},
   "outputs": [],
   "source": [
    "# Filter out outliers\n",
    "outlier_filtered_data = encoded_data[(encoded_data['Sale_Price'] >= lower_bound) & (encoded_data['Sale_Price'] <= upper_bound)]"
   ]
  },
  {
   "cell_type": "code",
   "execution_count": null,
   "metadata": {},
   "outputs": [],
   "source": [
    "# Display number of rows before and after outlier removal\n",
    "print(\"\\nNumber of rows before outlier removal:\", len(encoded_data))\n",
    "print(\"Number of rows after outlier removal:\", len(outlier_filtered_data))"
   ]
  },
  {
   "cell_type": "code",
   "execution_count": null,
   "metadata": {},
   "outputs": [],
   "source": [
    "# Save cleaned data to a new file\n",
    "outlier_filtered_data.to_csv(\"Cleaned_RealEstate_Data.csv\", index=False)\n",
    "\n",
    "print(\"\\nData wrangling completed! Cleaned dataset saved as 'Cleaned_RealEstate_Data.csv'.\")"
   ]
  }
 ],
 "metadata": {
  "kernelspec": {
   "display_name": "base",
   "language": "python",
   "name": "python3"
  },
  "language_info": {
   "codemirror_mode": {
    "name": "ipython",
    "version": 3
   },
   "file_extension": ".py",
   "mimetype": "text/x-python",
   "name": "python",
   "nbconvert_exporter": "python",
   "pygments_lexer": "ipython3",
   "version": "3.11.5"
  }
 },
 "nbformat": 4,
 "nbformat_minor": 2
}
